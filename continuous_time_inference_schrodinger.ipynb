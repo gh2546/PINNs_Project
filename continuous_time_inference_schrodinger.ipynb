{
 "cells": [
  {
   "cell_type": "code",
   "execution_count": 1,
   "metadata": {},
   "outputs": [],
   "source": [
    "import os\n",
    "import numpy as np\n",
    "os.chdir('utils')\n",
    "from schroding_utils import *\n",
    "from mlp_network import shared_model_func\n",
    "from plotting import list_tensor_to_list, plot_loss, three_plots_schrod, heat_map_schrod"
   ]
  },
  {
   "cell_type": "code",
   "execution_count": 2,
   "metadata": {},
   "outputs": [],
   "source": [
    "file_path = '../data/NLS.mat'"
   ]
  },
  {
   "cell_type": "code",
   "execution_count": 3,
   "metadata": {},
   "outputs": [],
   "source": [
    "## Loading data\n",
    "x, t, usol, usol_real, usol_img, usol_mag = load_data(file_path)\n",
    "\n",
    "## Creating spatio-temporal grid\n",
    "X, T = mesh_grid(x, t)\n",
    "\n",
    "## Domain bounds\n",
    "lb, ub = domain_bounds(-5.0, 5.0, 0.0, np.pi/2)\n",
    "\n",
    "## Number of initial conditions training points\n",
    "N0 = 50\n",
    "\n",
    "## Number of boundary condition training points\n",
    "N_b = 50\n",
    "\n",
    "## Number of PDE structure (i.e. collocation) training points\n",
    "N_f = 20000\n",
    "\n",
    "## size of the neural network\n",
    "## layers[0] == Input size\n",
    "## layers[-1] == Output size\n",
    "## layers[1:-1] == Number of units in between layers\n",
    "layers = [2, 100, 100, 100, 100, 2]\n",
    "\n",
    "\n",
    "## Preparing test data\n",
    "X_test, y_u_test, y_v_test, y_h_test = test_data(X, T, usol_real, usol_img, usol_mag)\n",
    "\n",
    "## Preparing training data\n",
    "## choosing N0 random initial conditions\n",
    "idx_x = np.random.choice(x.shape[0], N0, replace=False)\n",
    "X_x_IC_train = x[idx_x,:] # spatial grid for train\n",
    "X_u_IC_train = usol_real[idx_x,0:1] # real component for training\n",
    "X_v_IC_train = usol_img[idx_x,0:1] # imaginary component for training\n",
    "\n",
    "## chossing N_b boundary conditions\n",
    "idx_t = np.random.choice(t.shape[0], N_b, replace=False)\n",
    "X_tb_train = t[idx_t,:]\n",
    "\n",
    "## Generating a latin-hypercube design\n",
    "X_f_train = lb + (ub-lb)*lhs(2, N_f)\n",
    "\n",
    "\n",
    "# Concating training arrays\n",
    "X_IC_train = np.concatenate((X_x_IC_train, 0*X_x_IC_train), 1) \n",
    "X_lb_train = np.concatenate((0*X_tb_train + lb[0], X_tb_train), 1)\n",
    "X_ub_train = np.concatenate((0*X_tb_train + ub[0], X_tb_train), 1)"
   ]
  },
  {
   "cell_type": "code",
   "execution_count": 4,
   "metadata": {},
   "outputs": [
    {
     "name": "stdout",
     "output_type": "stream",
     "text": [
      "Model: \"model\"\n",
      "__________________________________________________________________________________________________\n",
      "Layer (type)                    Output Shape         Param #     Connected to                     \n",
      "==================================================================================================\n",
      "input_1 (InputLayer)            [(None, 1)]          0                                            \n",
      "__________________________________________________________________________________________________\n",
      "input_2 (InputLayer)            [(None, 1)]          0                                            \n",
      "__________________________________________________________________________________________________\n",
      "concatenate (Concatenate)       (None, 2)            0           input_1[0][0]                    \n",
      "                                                                 input_2[0][0]                    \n",
      "__________________________________________________________________________________________________\n",
      "dense (Dense)                   (None, 100)          300         concatenate[0][0]                \n",
      "__________________________________________________________________________________________________\n",
      "dense_1 (Dense)                 (None, 100)          10100       dense[0][0]                      \n",
      "__________________________________________________________________________________________________\n",
      "dense_2 (Dense)                 (None, 100)          10100       dense_1[0][0]                    \n",
      "__________________________________________________________________________________________________\n",
      "dense_3 (Dense)                 (None, 100)          10100       dense_2[0][0]                    \n",
      "__________________________________________________________________________________________________\n",
      "dense_4 (Dense)                 (None, 2)            202         dense_3[0][0]                    \n",
      "==================================================================================================\n",
      "Total params: 30,802\n",
      "Trainable params: 30,802\n",
      "Non-trainable params: 0\n",
      "__________________________________________________________________________________________________\n"
     ]
    }
   ],
   "source": [
    "shared_model = shared_model_func(layers, lb=None, ub=None, norm=False)\n",
    "# shared_model = shared_model_func(layers, lb=lb, ub=lb, norm=True)\n",
    "\n",
    "\n",
    "shared_model.summary()"
   ]
  },
  {
   "cell_type": "code",
   "execution_count": 5,
   "metadata": {},
   "outputs": [],
   "source": [
    "# specifying the loss function\n",
    "loss_function = tf.keras.losses.MeanSquaredError()\n",
    "\n",
    "# Optimizer\n",
    "optimizer = choose_optimizer(lr=0.0003, ds=1000, er=0.96, opt='Adam', lear_rate_sched=True)\n",
    "\n",
    "## keeping them out of the @tf.function"
   ]
  },
  {
   "cell_type": "code",
   "execution_count": 6,
   "metadata": {
    "scrolled": false
   },
   "outputs": [
    {
     "name": "stderr",
     "output_type": "stream",
     "text": [
      "\r",
      "  0%|          | 0/15000 [00:00<?, ?it/s]"
     ]
    },
    {
     "name": "stdout",
     "output_type": "stream",
     "text": [
      "WARNING:tensorflow:Calling GradientTape.gradient on a persistent tape inside its context is significantly less efficient than calling it outside the context (it causes the gradient ops to be recorded on the tape, leading to increased CPU and memory usage). Only call GradientTape.gradient inside the context if you actually want to trace the gradient in order to compute higher order derivatives.\n"
     ]
    },
    {
     "name": "stderr",
     "output_type": "stream",
     "text": [
      "  3%|▎         | 502/15000 [01:21<40:41,  5.94it/s] "
     ]
    },
    {
     "name": "stdout",
     "output_type": "stream",
     "text": [
      "After 500 epochs combined loss is 0.06792720451267087\n"
     ]
    },
    {
     "name": "stderr",
     "output_type": "stream",
     "text": [
      "  7%|▋         | 1002/15000 [02:39<39:22,  5.92it/s]"
     ]
    },
    {
     "name": "stdout",
     "output_type": "stream",
     "text": [
      "After 1000 epochs combined loss is 0.057246165992182796\n"
     ]
    },
    {
     "name": "stderr",
     "output_type": "stream",
     "text": [
      " 10%|█         | 1502/15000 [03:57<37:46,  5.95it/s]"
     ]
    },
    {
     "name": "stdout",
     "output_type": "stream",
     "text": [
      "After 1500 epochs combined loss is 0.05040852239540072\n"
     ]
    },
    {
     "name": "stderr",
     "output_type": "stream",
     "text": [
      " 13%|█▎        | 2002/15000 [05:15<36:22,  5.96it/s]"
     ]
    },
    {
     "name": "stdout",
     "output_type": "stream",
     "text": [
      "After 2000 epochs combined loss is 0.04308840634757871\n"
     ]
    },
    {
     "name": "stderr",
     "output_type": "stream",
     "text": [
      " 17%|█▋        | 2502/15000 [06:33<34:50,  5.98it/s]"
     ]
    },
    {
     "name": "stdout",
     "output_type": "stream",
     "text": [
      "After 2500 epochs combined loss is 0.03659152185105086\n"
     ]
    },
    {
     "name": "stderr",
     "output_type": "stream",
     "text": [
      " 20%|██        | 3002/15000 [07:51<33:33,  5.96it/s]"
     ]
    },
    {
     "name": "stdout",
     "output_type": "stream",
     "text": [
      "After 3000 epochs combined loss is 0.031233263136300593\n"
     ]
    },
    {
     "name": "stderr",
     "output_type": "stream",
     "text": [
      " 23%|██▎       | 3502/15000 [09:09<32:14,  5.94it/s]"
     ]
    },
    {
     "name": "stdout",
     "output_type": "stream",
     "text": [
      "After 3500 epochs combined loss is 0.027091961987594004\n"
     ]
    },
    {
     "name": "stderr",
     "output_type": "stream",
     "text": [
      " 27%|██▋       | 4002/15000 [10:27<30:41,  5.97it/s]"
     ]
    },
    {
     "name": "stdout",
     "output_type": "stream",
     "text": [
      "After 4000 epochs combined loss is 0.02435092848736531\n"
     ]
    },
    {
     "name": "stderr",
     "output_type": "stream",
     "text": [
      " 30%|███       | 4502/15000 [11:45<29:11,  5.99it/s]"
     ]
    },
    {
     "name": "stdout",
     "output_type": "stream",
     "text": [
      "After 4500 epochs combined loss is 0.021706776314999843\n"
     ]
    },
    {
     "name": "stderr",
     "output_type": "stream",
     "text": [
      " 33%|███▎      | 5002/15000 [13:03<27:48,  5.99it/s]"
     ]
    },
    {
     "name": "stdout",
     "output_type": "stream",
     "text": [
      "After 5000 epochs combined loss is 0.019330338486298615\n"
     ]
    },
    {
     "name": "stderr",
     "output_type": "stream",
     "text": [
      " 37%|███▋      | 5502/15000 [14:21<26:31,  5.97it/s]"
     ]
    },
    {
     "name": "stdout",
     "output_type": "stream",
     "text": [
      "After 5500 epochs combined loss is 0.017071449593458965\n"
     ]
    },
    {
     "name": "stderr",
     "output_type": "stream",
     "text": [
      " 40%|████      | 6002/15000 [15:39<25:07,  5.97it/s]"
     ]
    },
    {
     "name": "stdout",
     "output_type": "stream",
     "text": [
      "After 6000 epochs combined loss is 0.013997380836372031\n"
     ]
    },
    {
     "name": "stderr",
     "output_type": "stream",
     "text": [
      " 43%|████▎     | 6502/15000 [16:57<23:47,  5.95it/s]"
     ]
    },
    {
     "name": "stdout",
     "output_type": "stream",
     "text": [
      "After 6500 epochs combined loss is 0.013009652313030529\n"
     ]
    },
    {
     "name": "stderr",
     "output_type": "stream",
     "text": [
      " 47%|████▋     | 7002/15000 [18:15<22:30,  5.92it/s]"
     ]
    },
    {
     "name": "stdout",
     "output_type": "stream",
     "text": [
      "After 7000 epochs combined loss is 0.009804347611407138\n"
     ]
    },
    {
     "name": "stderr",
     "output_type": "stream",
     "text": [
      " 50%|█████     | 7502/15000 [19:33<20:58,  5.96it/s]"
     ]
    },
    {
     "name": "stdout",
     "output_type": "stream",
     "text": [
      "After 7500 epochs combined loss is 0.007878998954993222\n"
     ]
    },
    {
     "name": "stderr",
     "output_type": "stream",
     "text": [
      " 53%|█████▎    | 8002/15000 [20:51<19:33,  5.97it/s]"
     ]
    },
    {
     "name": "stdout",
     "output_type": "stream",
     "text": [
      "After 8000 epochs combined loss is 0.006459486626397393\n"
     ]
    },
    {
     "name": "stderr",
     "output_type": "stream",
     "text": [
      " 57%|█████▋    | 8502/15000 [22:09<18:11,  5.95it/s]"
     ]
    },
    {
     "name": "stdout",
     "output_type": "stream",
     "text": [
      "After 8500 epochs combined loss is 0.005474887498166936\n"
     ]
    },
    {
     "name": "stderr",
     "output_type": "stream",
     "text": [
      " 60%|██████    | 9002/15000 [23:27<16:41,  5.99it/s]"
     ]
    },
    {
     "name": "stdout",
     "output_type": "stream",
     "text": [
      "After 9000 epochs combined loss is 0.00464305211971805\n"
     ]
    },
    {
     "name": "stderr",
     "output_type": "stream",
     "text": [
      " 63%|██████▎   | 9502/15000 [24:45<15:23,  5.95it/s]"
     ]
    },
    {
     "name": "stdout",
     "output_type": "stream",
     "text": [
      "After 9500 epochs combined loss is 0.004008039477866987\n"
     ]
    },
    {
     "name": "stderr",
     "output_type": "stream",
     "text": [
      " 67%|██████▋   | 10002/15000 [26:03<14:00,  5.95it/s]"
     ]
    },
    {
     "name": "stdout",
     "output_type": "stream",
     "text": [
      "After 10000 epochs combined loss is 0.0035004445215349733\n"
     ]
    },
    {
     "name": "stderr",
     "output_type": "stream",
     "text": [
      " 70%|███████   | 10502/15000 [27:21<12:33,  5.97it/s]"
     ]
    },
    {
     "name": "stdout",
     "output_type": "stream",
     "text": [
      "After 10500 epochs combined loss is 0.004046448922053969\n"
     ]
    },
    {
     "name": "stderr",
     "output_type": "stream",
     "text": [
      " 73%|███████▎  | 11002/15000 [28:39<11:11,  5.95it/s]"
     ]
    },
    {
     "name": "stdout",
     "output_type": "stream",
     "text": [
      "After 11000 epochs combined loss is 0.0028741190325831667\n"
     ]
    },
    {
     "name": "stderr",
     "output_type": "stream",
     "text": [
      " 77%|███████▋  | 11502/15000 [29:57<09:45,  5.97it/s]"
     ]
    },
    {
     "name": "stdout",
     "output_type": "stream",
     "text": [
      "After 11500 epochs combined loss is 0.0023869767497899375\n"
     ]
    },
    {
     "name": "stderr",
     "output_type": "stream",
     "text": [
      " 80%|████████  | 12002/15000 [31:15<08:22,  5.97it/s]"
     ]
    },
    {
     "name": "stdout",
     "output_type": "stream",
     "text": [
      "After 12000 epochs combined loss is 0.002102960278136834\n"
     ]
    },
    {
     "name": "stderr",
     "output_type": "stream",
     "text": [
      " 83%|████████▎ | 12502/15000 [32:33<06:59,  5.96it/s]"
     ]
    },
    {
     "name": "stdout",
     "output_type": "stream",
     "text": [
      "After 12500 epochs combined loss is 0.001868303520268455\n"
     ]
    },
    {
     "name": "stderr",
     "output_type": "stream",
     "text": [
      " 87%|████████▋ | 13002/15000 [33:51<05:36,  5.94it/s]"
     ]
    },
    {
     "name": "stdout",
     "output_type": "stream",
     "text": [
      "After 13000 epochs combined loss is 0.0016618091272846414\n"
     ]
    },
    {
     "name": "stderr",
     "output_type": "stream",
     "text": [
      " 90%|█████████ | 13502/15000 [35:09<04:12,  5.94it/s]"
     ]
    },
    {
     "name": "stdout",
     "output_type": "stream",
     "text": [
      "After 13500 epochs combined loss is 0.0015104950301747522\n"
     ]
    },
    {
     "name": "stderr",
     "output_type": "stream",
     "text": [
      " 93%|█████████▎| 14002/15000 [36:27<02:47,  5.95it/s]"
     ]
    },
    {
     "name": "stdout",
     "output_type": "stream",
     "text": [
      "After 14000 epochs combined loss is 0.0013471145102812443\n"
     ]
    },
    {
     "name": "stderr",
     "output_type": "stream",
     "text": [
      " 97%|█████████▋| 14502/15000 [37:45<01:23,  5.93it/s]"
     ]
    },
    {
     "name": "stdout",
     "output_type": "stream",
     "text": [
      "After 14500 epochs combined loss is 0.0012102907016924291\n"
     ]
    },
    {
     "name": "stderr",
     "output_type": "stream",
     "text": [
      "100%|██████████| 15000/15000 [39:03<00:00,  6.40it/s]"
     ]
    },
    {
     "name": "stdout",
     "output_type": "stream",
     "text": [
      "After 15000 epochs combined loss is 0.001096573107020049\n"
     ]
    },
    {
     "name": "stderr",
     "output_type": "stream",
     "text": [
      "\n"
     ]
    }
   ],
   "source": [
    "# Data generation passing the entire batch\n",
    "train_dataset = data_gen(X_f_train, batch_size=X_f_train.shape[0])\n",
    "max_Iter = 15000\n",
    "loss_u = []\n",
    "loss_f = []\n",
    "loss_model = []\n",
    "loss_u_IC = [] \n",
    "loss_v_IC = []\n",
    "loss_u_BC = []\n",
    "loss_v_BC = []\n",
    "loss_u_x_BC = []\n",
    "loss_v_x_BC = []\n",
    "loss_f_u = []\n",
    "loss_f_v = []\n",
    "tolerance = 0.03\n",
    "loss_prev = 100000000\n",
    "for epoch in tqdm(range(max_Iter)):\n",
    "    for (X_f_train1, t_f_train1) in train_dataset:        \n",
    "        loss_1, loss_2, loss_3, loss_4, loss_5, loss_6, loss_7, loss_8, loss_combine = model_build_compile(X_IC_train[:,0:1],\n",
    "                                                                        X_IC_train[:,1:2], X_lb_train[:,0:1], \n",
    "                                                                        X_lb_train[:,1:2], X_ub_train[:,0:1], \n",
    "                                                                         X_ub_train[:,1:2], X_f_train[:,0:1], \n",
    "                                                                        X_f_train[:,1:2], shared_model, loss_function,\n",
    "                                                                                    optimizer,X_u_IC_train, X_v_IC_train)\n",
    "        loss_model.append(loss_combine)\n",
    "        loss_u_IC.append(loss_1)\n",
    "        loss_v_IC.append(loss_2)\n",
    "        loss_u_BC.append(loss_3)\n",
    "        loss_v_BC.append(loss_4)\n",
    "        loss_u_x_BC.append(loss_5)\n",
    "        loss_v_x_BC.append(loss_6)\n",
    "        loss_f_u.append(loss_7)\n",
    "        loss_f_v.append(loss_8)\n",
    "        \n",
    "    if ((epoch+1)%500 == 0):\n",
    "        print(\"After {0} epochs combined loss is {1}\".format(epoch+1, loss_combine.numpy()))\n",
    "    # Early Stopping\n",
    "    # My error was reducing for 10k and then it suddenly rises \n",
    "    # Expecting overfitting so I am putting a early stop condition here\n",
    "#     if tolerance <= loss_combine.numpy() and loss_combine.numpy() < 2 * tolerance:\n",
    "#         break\n",
    "        "
   ]
  },
  {
   "cell_type": "code",
   "execution_count": 8,
   "metadata": {},
   "outputs": [
    {
     "data": {
      "image/png": "[encoded data removed]",
      "text/plain": [
       "<Figure size 432x288 with 1 Axes>"
      ]
     },
     "metadata": {
      "needs_background": "light"
     },
     "output_type": "display_data"
    }
   ],
   "source": [
    "loss_num = list_tensor_to_list(loss_model)\n",
    "xlab = r\"Number of epochs\"\n",
    "ylab = r\"Loss\"\n",
    "x111 = np.linspace(start = 0, stop = max_Iter, num = max_Iter, dtype = np.int)\n",
    "plt.plot(x111, loss_num, 'k', label='model')\n",
    "plt.yscale('log')\n",
    "plt.xlabel(xlab, fontsize=10)\n",
    "plt.ylabel(ylab, fontsize=10)\n",
    "# plt.legend( bbox_to_anchor=(1.05, 1), loc='upper left',fontsize=10)\n",
    "plt.legend(loc='best', fontsize=10)\n",
    "plt.xticks(fontsize=10)\n",
    "plt.yticks(fontsize=10)\n",
    "plt.tight_layout()\n",
    "plt.xlim([0, max_Iter])\n",
    "plt.savefig('../figures/Schrodinger/schrod_loss_alone.png', dpi=500)\n",
    "plt.show()"
   ]
  },
  {
   "cell_type": "code",
   "execution_count": 9,
   "metadata": {},
   "outputs": [
    {
     "data": {
      "image/png": "[encoded data removed]",
      "text/plain": [
       "<Figure size 432x288 with 1 Axes>"
      ]
     },
     "metadata": {
      "needs_background": "light"
     },
     "output_type": "display_data"
    }
   ],
   "source": [
    "loss_list = [loss_u_IC, loss_v_IC, loss_u_BC, loss_v_BC, loss_u_x_BC, loss_v_x_BC, loss_f_u, loss_f_v, loss_model]\n",
    "plot_loss(max_Iter, loss_list, 'schrod')"
   ]
  },
  {
   "cell_type": "code",
   "execution_count": 10,
   "metadata": {},
   "outputs": [
    {
     "data": {
      "image/png": "[encoded data removed]",
      "text/plain": [
       "<Figure size 432x288 with 1 Axes>"
      ]
     },
     "metadata": {
      "needs_background": "light"
     },
     "output_type": "display_data"
    }
   ],
   "source": [
    "loss_num = list_tensor_to_list(loss_model)\n",
    "xlab = r\"Number of epochs\"\n",
    "ylab = r\"Loss\"\n",
    "x111 = np.linspace(start = 0, stop = max_Iter, num = max_Iter, dtype = np.int)\n",
    "plt.plot(x111, loss_num, 'k', label='model')\n",
    "plt.yscale('log')\n",
    "plt.xlabel(xlab, fontsize=10)\n",
    "plt.ylabel(ylab, fontsize=10)\n",
    "# plt.legend( bbox_to_anchor=(1.05, 1), loc='upper left',fontsize=10)\n",
    "plt.legend(loc='best', fontsize=10)\n",
    "plt.xticks(fontsize=10)\n",
    "plt.yticks(fontsize=10)\n",
    "plt.tight_layout()\n",
    "plt.xlim([0, max_Iter])\n",
    "plt.savefig('../figures/Schrodinger/schrod_loss_alone.png', dpi=500)\n",
    "plt.show()"
   ]
  },
  {
   "cell_type": "code",
   "execution_count": 11,
   "metadata": {},
   "outputs": [
    {
     "name": "stdout",
     "output_type": "stream",
     "text": [
      "*****************************************************\n",
      "\n",
      "Error for the real part of latent variable h is: 2.933348e-01\n",
      "Error for the imaginary part of latent variable h is: 4.759021e-01\n",
      "Error for the magnitude of variable h is: 6.675262e-02\n",
      "\n",
      "*****************************************************\n"
     ]
    }
   ],
   "source": [
    "uv_hat = predict(shared_model, X_test)\n",
    "u_hat, v_hat = uv_hat[:,0:1], uv_hat[:,1:2]\n",
    "h_hat = np.sqrt(u_hat**2 + v_hat**2)\n",
    "\n",
    "error_u = error_loss(y_u_test, u_hat)\n",
    "error_v = error_loss(y_v_test, v_hat)\n",
    "error_h = error_loss(y_h_test, h_hat)\n",
    "\n",
    "print(\"*****************************************************\\n\")\n",
    "print(\"Error for the real part of latent variable h is: {:e}\".format(error_u))\n",
    "print(\"Error for the imaginary part of latent variable h is: {:e}\".format(error_v))\n",
    "print(\"Error for the magnitude of variable h is: {:e}\".format(error_h))\n",
    "print(\"\\n*****************************************************\")"
   ]
  },
  {
   "cell_type": "code",
   "execution_count": 12,
   "metadata": {},
   "outputs": [],
   "source": [
    "U_pred = griddata(X_test, u_hat.flatten(), (X, T), method='cubic')\n",
    "V_pred = griddata(X_test, v_hat.flatten(), (X, T), method='cubic')\n",
    "H_pred = griddata(X_test, h_hat.flatten(), (X, T), method='cubic')"
   ]
  },
  {
   "cell_type": "code",
   "execution_count": 13,
   "metadata": {
    "scrolled": true
   },
   "outputs": [
    {
     "data": {
      "text/plain": [
       "<Figure size 432x288 with 0 Axes>"
      ]
     },
     "metadata": {},
     "output_type": "display_data"
    },
    {
     "data": {
      "image/png": "[encoded data removed]",
      "text/plain": [
       "<Figure size 432x288 with 3 Axes>"
      ]
     },
     "metadata": {
      "needs_background": "light"
     },
     "output_type": "display_data"
    }
   ],
   "source": [
    "three_plots_schrod(x, t, usol_mag, H_pred)"
   ]
  },
  {
   "cell_type": "code",
   "execution_count": 14,
   "metadata": {},
   "outputs": [
    {
     "data": {
      "image/png": "[encoded data removed]",
      "text/plain": [
       "<Figure size 432x288 with 2 Axes>"
      ]
     },
     "metadata": {
      "needs_background": "light"
     },
     "output_type": "display_data"
    }
   ],
   "source": [
    "#Predicted solution on spatio-temporal grid\n",
    "heat_map_schrod(H_pred, x,t, lb, ub, np.vstack([X_IC_train, X_lb_train, X_ub_train]), 'solution_heatmap')"
   ]
  },
  {
   "cell_type": "code",
   "execution_count": 15,
   "metadata": {},
   "outputs": [],
   "source": [
    "# Error of the solution on spatio-temporal grid\n",
    "H_true = griddata(X_test, y_h_test.flatten(), (X, T), method='cubic')"
   ]
  },
  {
   "cell_type": "code",
   "execution_count": 16,
   "metadata": {},
   "outputs": [
    {
     "data": {
      "image/png": "[encoded data removed]",
      "text/plain": [
       "<Figure size 432x288 with 2 Axes>"
      ]
     },
     "metadata": {
      "needs_background": "light"
     },
     "output_type": "display_data"
    }
   ],
   "source": [
    "heat_map_schrod((H_true-H_pred), x,t, lb, ub, np.vstack([X_IC_train, X_lb_train, X_ub_train]), 'error_heatmap')"
   ]
  },
  {
   "cell_type": "code",
   "execution_count": 17,
   "metadata": {},
   "outputs": [
    {
     "name": "stdout",
     "output_type": "stream",
     "text": [
      "WARNING:tensorflow:From /home/ecbm4040/anaconda3/envs/envTF22/lib/python3.7/site-packages/tensorflow/python/ops/resource_variable_ops.py:1817: calling BaseResourceVariable.__init__ (from tensorflow.python.ops.resource_variable_ops) with constraint is deprecated and will be removed in a future version.\n",
      "Instructions for updating:\n",
      "If using Keras pass *_constraint arguments to layers.\n",
      "INFO:tensorflow:Assets written to: ../models/Schrodinger/Schrodinger_shared_model/assets\n"
     ]
    }
   ],
   "source": [
    "# Saves the model to Tensorflow SavedModel or a single HDF5 file.\n",
    "shared_model.save(filepath='../models/Schrodinger/Schrodinger_shared_model')"
   ]
  },
  {
   "cell_type": "code",
   "execution_count": 18,
   "metadata": {},
   "outputs": [],
   "source": [
    "# save the weights\n",
    "shared_model.save_weights('../models/Schrodinger/weights')"
   ]
  }
 ],
 "metadata": {
  "kernelspec": {
   "display_name": "Python 3",
   "language": "python",
   "name": "python3"
  },
  "language_info": {
   "codemirror_mode": {
    "name": "ipython",
    "version": 3
   },
   "file_extension": ".py",
   "mimetype": "text/x-python",
   "name": "python",
   "nbconvert_exporter": "python",
   "pygments_lexer": "ipython3",
   "version": "3.7.7"
  }
 },
 "nbformat": 4,
 "nbformat_minor": 4
}

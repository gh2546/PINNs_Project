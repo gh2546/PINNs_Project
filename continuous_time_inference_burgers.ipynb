{
 "cells": [
  {
   "cell_type": "code",
   "execution_count": 1,
   "metadata": {},
   "outputs": [],
   "source": [
    "import os\n",
    "import numpy\n",
    "os.chdir(\"utils\")\n",
    "from burgers_utils import *\n",
    "from mlp_network import shared_model_func\n",
    "from plotting import plot_loss, list_tensor_to_list, three_plots_burgers, heat_map\n",
    "import matplotlib.gridspec as gridspec"
   ]
  },
  {
   "cell_type": "code",
   "execution_count": 2,
   "metadata": {},
   "outputs": [],
   "source": [
    "file_path = '../data/burgers_shock.mat'"
   ]
  },
  {
   "cell_type": "code",
   "execution_count": 3,
   "metadata": {},
   "outputs": [],
   "source": [
    "# loading data from the burgers_shock.mat\n",
    "# usol in the paper's script has been reffered as Exact\n",
    "x, t, usol = load_data(file_path)"
   ]
  },
  {
   "cell_type": "code",
   "execution_count": 4,
   "metadata": {},
   "outputs": [],
   "source": [
    "# making a spatial-temporal grid\n",
    "X, T = mesh_grid(x, t)"
   ]
  },
  {
   "cell_type": "code",
   "execution_count": 5,
   "metadata": {},
   "outputs": [],
   "source": [
    "# Creating test data set\n",
    "# X_test is reffered as X_star\n",
    "# y_test is reffered as u_star\n",
    "X_test, y_test = test_data(X, T, usol)"
   ]
  },
  {
   "cell_type": "code",
   "execution_count": 6,
   "metadata": {},
   "outputs": [],
   "source": [
    "# Domain bounds \n",
    "lb, ub = domain_bounds(X_test)"
   ]
  },
  {
   "cell_type": "code",
   "execution_count": 7,
   "metadata": {},
   "outputs": [],
   "source": [
    "# Number of collocation points i.e. number of training points for f\n",
    "N_f = 10000\n",
    "# Number of initial and boudary conditions to train the model for u\n",
    "N_u = 100"
   ]
  },
  {
   "cell_type": "code",
   "execution_count": 8,
   "metadata": {},
   "outputs": [],
   "source": [
    "### In Physics-informed neural networks, we are predicting a latent variable u (x,t) and structure of \n",
    "### the pde f(u,x, t). variables with \"u_train\" in them corresponds to the training example required for u \n",
    "### and \"f_train\" corresponds to the training example required for f\n",
    "### We don't have \"y_f_train\" because it's value is always zero and we specified it in the loss function"
   ]
  },
  {
   "cell_type": "code",
   "execution_count": 9,
   "metadata": {},
   "outputs": [],
   "source": [
    "# In the the paper they are reffered as X_u_train, X_f_train and u_train\n",
    "x_f, x_u, y_u = training_data(X, T, usol, lb, ub, N_f)"
   ]
  },
  {
   "cell_type": "code",
   "execution_count": 10,
   "metadata": {},
   "outputs": [],
   "source": [
    "# From the entire initial and boundary conditions we will select N_u number of x,t,u for the training\n",
    "idx = np.random.choice(x_u.shape[0], N_u, replace=False)\n",
    "X_u_train = x_u[idx, :]\n",
    "y_u_train = y_u[idx, :]\n",
    "# Stacking collocation points and IC and BC condtions\n",
    "# this will be used for imposing the structure of the Partial Differential Equation\n",
    "X_f_train = np.vstack([x_f, X_u_train])"
   ]
  },
  {
   "cell_type": "code",
   "execution_count": 11,
   "metadata": {},
   "outputs": [],
   "source": [
    "# Specifying the number of layers in the neural network shared between u and f\n",
    "layers = [2, 20, 20, 20, 20, 20, 20, 20, 20, 1]\n",
    "# Specifying the coefficient of viscosity\n",
    "nu = 0.01/np.pi"
   ]
  },
  {
   "cell_type": "code",
   "execution_count": 12,
   "metadata": {},
   "outputs": [
    {
     "name": "stdout",
     "output_type": "stream",
     "text": [
      "Shared network summary is: \n",
      "\n",
      "Model: \"model\"\n",
      "__________________________________________________________________________________________________\n",
      "Layer (type)                    Output Shape         Param #     Connected to                     \n",
      "==================================================================================================\n",
      "input_1 (InputLayer)            [(None, 1)]          0                                            \n",
      "__________________________________________________________________________________________________\n",
      "input_2 (InputLayer)            [(None, 1)]          0                                            \n",
      "__________________________________________________________________________________________________\n",
      "concatenate (Concatenate)       (None, 2)            0           input_1[0][0]                    \n",
      "                                                                 input_2[0][0]                    \n",
      "__________________________________________________________________________________________________\n",
      "tf_op_layer_Sub (TensorFlowOpLa [(None, 2)]          0           concatenate[0][0]                \n",
      "__________________________________________________________________________________________________\n",
      "tf_op_layer_Mul (TensorFlowOpLa [(None, 2)]          0           tf_op_layer_Sub[0][0]            \n",
      "__________________________________________________________________________________________________\n",
      "tf_op_layer_RealDiv (TensorFlow [(None, 2)]          0           tf_op_layer_Mul[0][0]            \n",
      "__________________________________________________________________________________________________\n",
      "tf_op_layer_Sub_1 (TensorFlowOp [(None, 2)]          0           tf_op_layer_RealDiv[0][0]        \n",
      "__________________________________________________________________________________________________\n",
      "dense (Dense)                   (None, 20)           60          tf_op_layer_Sub_1[0][0]          \n",
      "__________________________________________________________________________________________________\n",
      "dense_1 (Dense)                 (None, 20)           420         dense[0][0]                      \n",
      "__________________________________________________________________________________________________\n",
      "dense_2 (Dense)                 (None, 20)           420         dense_1[0][0]                    \n",
      "__________________________________________________________________________________________________\n",
      "dense_3 (Dense)                 (None, 20)           420         dense_2[0][0]                    \n",
      "__________________________________________________________________________________________________\n",
      "dense_4 (Dense)                 (None, 20)           420         dense_3[0][0]                    \n",
      "__________________________________________________________________________________________________\n",
      "dense_5 (Dense)                 (None, 20)           420         dense_4[0][0]                    \n",
      "__________________________________________________________________________________________________\n",
      "dense_6 (Dense)                 (None, 20)           420         dense_5[0][0]                    \n",
      "__________________________________________________________________________________________________\n",
      "dense_7 (Dense)                 (None, 20)           420         dense_6[0][0]                    \n",
      "__________________________________________________________________________________________________\n",
      "dense_8 (Dense)                 (None, 1)            21          dense_7[0][0]                    \n",
      "==================================================================================================\n",
      "Total params: 3,021\n",
      "Trainable params: 3,021\n",
      "Non-trainable params: 0\n",
      "__________________________________________________________________________________________________\n"
     ]
    }
   ],
   "source": [
    "# Creating a shared neural network\n",
    "shared_model = shared_model_func(layers=layers, \n",
    "                                  lb=lb,\n",
    "                                   ub = ub,\n",
    "                                    norm = True) \n",
    "print(\"Shared network summary is: \\n\")\n",
    "shared_model.summary()"
   ]
  },
  {
   "cell_type": "code",
   "execution_count": 13,
   "metadata": {
    "scrolled": false
   },
   "outputs": [
    {
     "name": "stderr",
     "output_type": "stream",
     "text": [
      "\r",
      "  0%|          | 0/10000 [00:00<?, ?it/s]"
     ]
    },
    {
     "name": "stdout",
     "output_type": "stream",
     "text": [
      "WARNING:tensorflow:Calling GradientTape.gradient on a persistent tape inside its context is significantly less efficient than calling it outside the context (it causes the gradient ops to be recorded on the tape, leading to increased CPU and memory usage). Only call GradientTape.gradient inside the context if you actually want to trace the gradient in order to compute higher order derivatives.\n"
     ]
    },
    {
     "name": "stderr",
     "output_type": "stream",
     "text": [
      " 10%|█         | 1006/10000 [00:24<03:26, 43.61it/s]"
     ]
    },
    {
     "name": "stdout",
     "output_type": "stream",
     "text": [
      "After 1000 epochs loss on variable u is 0.004003128502517939\n",
      "After 1000 epochs loss on PDE structure (f) is 0.007501587737351656\n",
      "After 1000 epochs combined loss is 0.011504716239869595\n"
     ]
    },
    {
     "name": "stderr",
     "output_type": "stream",
     "text": [
      " 20%|██        | 2006/10000 [00:47<03:01, 43.92it/s]"
     ]
    },
    {
     "name": "stdout",
     "output_type": "stream",
     "text": [
      "After 2000 epochs loss on variable u is 0.00023109852918423712\n",
      "After 2000 epochs loss on PDE structure (f) is 0.0005230014212429523\n",
      "After 2000 epochs combined loss is 0.0007540999504271895\n"
     ]
    },
    {
     "name": "stderr",
     "output_type": "stream",
     "text": [
      " 30%|███       | 3006/10000 [01:09<02:39, 43.76it/s]"
     ]
    },
    {
     "name": "stdout",
     "output_type": "stream",
     "text": [
      "After 3000 epochs loss on variable u is 7.233413634821773e-05\n",
      "After 3000 epochs loss on PDE structure (f) is 0.00027917561237700284\n",
      "After 3000 epochs combined loss is 0.00035150974872522056\n"
     ]
    },
    {
     "name": "stderr",
     "output_type": "stream",
     "text": [
      " 40%|████      | 4006/10000 [01:31<02:17, 43.71it/s]"
     ]
    },
    {
     "name": "stdout",
     "output_type": "stream",
     "text": [
      "After 4000 epochs loss on variable u is 3.888412902597338e-05\n",
      "After 4000 epochs loss on PDE structure (f) is 0.00025490563712082803\n",
      "After 4000 epochs combined loss is 0.0002937897661468014\n"
     ]
    },
    {
     "name": "stderr",
     "output_type": "stream",
     "text": [
      " 50%|█████     | 5006/10000 [01:54<01:53, 43.84it/s]"
     ]
    },
    {
     "name": "stdout",
     "output_type": "stream",
     "text": [
      "After 5000 epochs loss on variable u is 2.4271063011838123e-05\n",
      "After 5000 epochs loss on PDE structure (f) is 0.00012082201283192262\n",
      "After 5000 epochs combined loss is 0.00014509307584376074\n"
     ]
    },
    {
     "name": "stderr",
     "output_type": "stream",
     "text": [
      " 60%|██████    | 6006/10000 [02:16<01:31, 43.88it/s]"
     ]
    },
    {
     "name": "stdout",
     "output_type": "stream",
     "text": [
      "After 6000 epochs loss on variable u is 1.6929046978475526e-05\n",
      "After 6000 epochs loss on PDE structure (f) is 6.002670488669537e-05\n",
      "After 6000 epochs combined loss is 7.69557518651709e-05\n"
     ]
    },
    {
     "name": "stderr",
     "output_type": "stream",
     "text": [
      " 70%|███████   | 7006/10000 [02:38<01:08, 43.89it/s]"
     ]
    },
    {
     "name": "stdout",
     "output_type": "stream",
     "text": [
      "After 7000 epochs loss on variable u is 1.3040767953498289e-05\n",
      "After 7000 epochs loss on PDE structure (f) is 5.077007881482132e-05\n",
      "After 7000 epochs combined loss is 6.381084676831961e-05\n"
     ]
    },
    {
     "name": "stderr",
     "output_type": "stream",
     "text": [
      " 80%|████████  | 8006/10000 [03:01<00:45, 43.77it/s]"
     ]
    },
    {
     "name": "stdout",
     "output_type": "stream",
     "text": [
      "After 8000 epochs loss on variable u is 1.047488967742538e-05\n",
      "After 8000 epochs loss on PDE structure (f) is 4.427303065313026e-05\n",
      "After 8000 epochs combined loss is 5.4747920330555644e-05\n"
     ]
    },
    {
     "name": "stderr",
     "output_type": "stream",
     "text": [
      " 90%|█████████ | 9006/10000 [03:23<00:22, 43.95it/s]"
     ]
    },
    {
     "name": "stdout",
     "output_type": "stream",
     "text": [
      "After 9000 epochs loss on variable u is 8.547875040676445e-06\n",
      "After 9000 epochs loss on PDE structure (f) is 3.943243427784182e-05\n",
      "After 9000 epochs combined loss is 4.7980309318518266e-05\n"
     ]
    },
    {
     "name": "stderr",
     "output_type": "stream",
     "text": [
      "100%|██████████| 10000/10000 [03:45<00:00, 44.34it/s]"
     ]
    },
    {
     "name": "stdout",
     "output_type": "stream",
     "text": [
      "After 10000 epochs loss on variable u is 7.099542926880531e-06\n",
      "After 10000 epochs loss on PDE structure (f) is 3.5544402635423467e-05\n",
      "After 10000 epochs combined loss is 4.2643945562304e-05\n"
     ]
    },
    {
     "name": "stderr",
     "output_type": "stream",
     "text": [
      "\n"
     ]
    }
   ],
   "source": [
    "# Specified in the paper\n",
    "loss_function = tf.keras.losses.MeanSquaredError()\n",
    "# Working perfect \n",
    "# 1. choose_optimizer(lr=5e-02, ds=100, er=0.96, opt='Adam')\n",
    "# 2. choose_optimizer(lr=1e-02, ds=100, er=0.96, opt='RMSprop')\n",
    "optimizer = choose_optimizer(lr=1e-02, ds=100, er=0.955, opt='Adam', lear_rate_sched=True)\n",
    "train_dataset = data_gen(X_f_train, batch_size=X_f_train.shape[0])\n",
    "max_Iter = 10000\n",
    "loss_u = []\n",
    "loss_f = []\n",
    "loss_model = []\n",
    "for epoch in tqdm(range(max_Iter)):\n",
    "    for (X_f_train, t_f_train) in train_dataset:   \n",
    "        # Passing the entire data in a single batch (That's how they did in the original paper)\n",
    "        loss_1, loss_2, loss_combine = model_build_compile(x_f=X_f_train, t_f=t_f_train, \n",
    "                                                           x_u = X_u_train[:,0:1], t_u = X_u_train[:,1:2],\n",
    "                                                           u = y_u_train, shared_model=shared_model, \n",
    "                                                           loss_function=loss_function,\n",
    "                                                           optimizer=optimizer)\n",
    "        loss_u.append(loss_1)\n",
    "        loss_f.append(loss_2)\n",
    "        loss_model.append(loss_combine)\n",
    "        \n",
    "        if ((epoch+1)%1000 == 0):\n",
    "            print(\"After {0} epochs loss on variable u is {1}\".format(epoch+1, loss_1.numpy()))\n",
    "            print(\"After {0} epochs loss on PDE structure (f) is {1}\".format(epoch+1, loss_2.numpy()))\n",
    "            print(\"After {0} epochs combined loss is {1}\".format(epoch+1, loss_combine.numpy()))\n",
    "            \n",
    "        "
   ]
  },
  {
   "cell_type": "code",
   "execution_count": 14,
   "metadata": {},
   "outputs": [
    {
     "data": {
      "image/png": "[encoded data removed]",
      "text/plain": [
       "<Figure size 432x288 with 1 Axes>"
      ]
     },
     "metadata": {
      "needs_background": "light"
     },
     "output_type": "display_data"
    }
   ],
   "source": [
    "loss_list = [loss_u, loss_f, loss_model]\n",
    "plot_loss(num_epoch=max_Iter, y_list=loss_list, which='burgers')"
   ]
  },
  {
   "cell_type": "code",
   "execution_count": 15,
   "metadata": {},
   "outputs": [],
   "source": [
    "y_hat = predict(shared_model, X_test)"
   ]
  },
  {
   "cell_type": "code",
   "execution_count": 16,
   "metadata": {},
   "outputs": [
    {
     "name": "stdout",
     "output_type": "stream",
     "text": [
      "*****************************************************\n",
      "\n",
      "Error for the latent variable u is: 1.423349e-02\n",
      "\n",
      "*****************************************************\n"
     ]
    }
   ],
   "source": [
    "loss = error_loss(y_test, y_hat)\n",
    "print(\"*****************************************************\\n\")\n",
    "print(\"Error for the latent variable u is: {:e}\".format(loss))\n",
    "print(\"\\n*****************************************************\")"
   ]
  },
  {
   "cell_type": "code",
   "execution_count": 17,
   "metadata": {},
   "outputs": [
    {
     "data": {
      "text/plain": [
       "<Figure size 432x288 with 0 Axes>"
      ]
     },
     "metadata": {},
     "output_type": "display_data"
    },
    {
     "data": {
      "image/png": "[encoded data removed]",
      "text/plain": [
       "<Figure size 432x288 with 3 Axes>"
      ]
     },
     "metadata": {
      "needs_background": "light"
     },
     "output_type": "display_data"
    }
   ],
   "source": [
    "U_pred = griddata(X_test, y_hat.flatten(), (X, T), method='cubic')\n",
    "three_plots_burgers(x, usol, U_pred)"
   ]
  },
  {
   "cell_type": "code",
   "execution_count": 18,
   "metadata": {},
   "outputs": [
    {
     "data": {
      "image/png": "[encoded data removed]",
      "text/plain": [
       "<Figure size 432x288 with 2 Axes>"
      ]
     },
     "metadata": {
      "needs_background": "light"
     },
     "output_type": "display_data"
    }
   ],
   "source": [
    "#Predicted solution on spatio-temporal grid\n",
    "heat_map(U_pred, t, x, X_u_train, 'solution_heatmap')"
   ]
  },
  {
   "cell_type": "code",
   "execution_count": 19,
   "metadata": {},
   "outputs": [
    {
     "data": {
      "image/png": "[encoded data removed]",
      "text/plain": [
       "<Figure size 432x288 with 2 Axes>"
      ]
     },
     "metadata": {
      "needs_background": "light"
     },
     "output_type": "display_data"
    }
   ],
   "source": [
    "# Error of the solution on spatio-temporal grid\n",
    "U_true  = griddata(X_test, y_test.flatten(), (X, T), method='cubic')\n",
    "Error = U_pred - U_true\n",
    "heat_map(Error, t, x, X_u_train, 'error_heatmap')"
   ]
  },
  {
   "cell_type": "code",
   "execution_count": 20,
   "metadata": {},
   "outputs": [
    {
     "name": "stdout",
     "output_type": "stream",
     "text": [
      "WARNING:tensorflow:From /home/ecbm4040/anaconda3/envs/envTF22/lib/python3.7/site-packages/tensorflow/python/ops/resource_variable_ops.py:1817: calling BaseResourceVariable.__init__ (from tensorflow.python.ops.resource_variable_ops) with constraint is deprecated and will be removed in a future version.\n",
      "Instructions for updating:\n",
      "If using Keras pass *_constraint arguments to layers.\n",
      "INFO:tensorflow:Assets written to: ../models/Burgers/Burgers_shared_model/assets\n"
     ]
    }
   ],
   "source": [
    "# Saves the model to Tensorflow SavedModel or a single HDF5 file.\n",
    "shared_model.save(filepath='../models/Burgers/Burgers_shared_model')"
   ]
  },
  {
   "cell_type": "code",
   "execution_count": 21,
   "metadata": {},
   "outputs": [],
   "source": [
    "# save the weights\n",
    "shared_model.save_weights('../models/Burgers/weights')"
   ]
  }
 ],
 "metadata": {
  "kernelspec": {
   "display_name": "Python 3",
   "language": "python",
   "name": "python3"
  },
  "language_info": {
   "codemirror_mode": {
    "name": "ipython",
    "version": 3
   },
   "file_extension": ".py",
   "mimetype": "text/x-python",
   "name": "python",
   "nbconvert_exporter": "python",
   "pygments_lexer": "ipython3",
   "version": "3.7.7"
  }
 },
 "nbformat": 4,
 "nbformat_minor": 4
}

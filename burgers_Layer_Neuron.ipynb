{
 "cells": [
  {
   "cell_type": "code",
   "execution_count": 1,
   "metadata": {},
   "outputs": [],
   "source": [
    "import os \n",
    "import numpy as np\n",
    "import sys\n",
    "import subprocess\n",
    "import time\n",
    "from datetime import datetime"
   ]
  },
  {
   "cell_type": "code",
   "execution_count": 8,
   "metadata": {},
   "outputs": [],
   "source": [
    "# os.mkdir('series_burgers')"
   ]
  },
  {
   "cell_type": "code",
   "execution_count": 4,
   "metadata": {
    "scrolled": false
   },
   "outputs": [],
   "source": [
    "os.chdir('series_burgers')\n",
    "with open('series_burgers_Layer_Neuron.py', 'r') as file:\n",
    "    data = file.readlines()"
   ]
  },
  {
   "cell_type": "code",
   "execution_count": 5,
   "metadata": {},
   "outputs": [],
   "source": [
    "dep_list = [2, 4, 6, 8]\n",
    "wid_list = [10, 20, 40]"
   ]
  },
  {
   "cell_type": "code",
   "execution_count": 6,
   "metadata": {},
   "outputs": [],
   "source": [
    "def new_file(data, dep, wid):\n",
    "    data_1 = data\n",
    "    layers = [None]*(dep+2)\n",
    "    layers[0] = 2\n",
    "    layers[-1] = 1\n",
    "    layers[1:-1] = wid*np.ones(dep, dtype=int)\n",
    "    data_1[41] = 'layers = {0}\\n'.format(layers)\n",
    "    with open('series.py', 'w') as file:\n",
    "        file.writelines(data)\n",
    "    return \"File has been written succesfully with layers{0}\".format(layers)"
   ]
  },
  {
   "cell_type": "code",
   "execution_count": 7,
   "metadata": {
    "scrolled": false
   },
   "outputs": [
    {
     "name": "stdout",
     "output_type": "stream",
     "text": [
      "***********************************************************************\n",
      "Launching new job. \n",
      "\n",
      "Job has been launched on 19/12/2020 21:54:58.\n",
      "b''\n",
      "Job has been completed on 19/12/2020 21:57:18 and output has been stored in LayerNeuronBurger file.\n",
      "Putting the scheduler on sleep for 10 seconds.\n",
      "***********************************************************************\n",
      "***********************************************************************\n",
      "Launching new job. \n",
      "\n",
      "Job has been launched on 19/12/2020 21:57:28.\n",
      "b''\n",
      "Job has been completed on 19/12/2020 21:59:52 and output has been stored in LayerNeuronBurger file.\n",
      "Putting the scheduler on sleep for 10 seconds.\n",
      "***********************************************************************\n",
      "***********************************************************************\n",
      "Launching new job. \n",
      "\n",
      "Job has been launched on 19/12/2020 22:00:02.\n",
      "b''\n",
      "Job has been completed on 19/12/2020 22:02:30 and output has been stored in LayerNeuronBurger file.\n",
      "Putting the scheduler on sleep for 10 seconds.\n",
      "***********************************************************************\n",
      "***********************************************************************\n",
      "Launching new job. \n",
      "\n",
      "Job has been launched on 19/12/2020 22:02:40.\n",
      "b''\n",
      "Job has been completed on 19/12/2020 22:05:15 and output has been stored in LayerNeuronBurger file.\n",
      "Putting the scheduler on sleep for 10 seconds.\n",
      "***********************************************************************\n",
      "***********************************************************************\n",
      "Launching new job. \n",
      "\n",
      "Job has been launched on 19/12/2020 22:05:25.\n",
      "b''\n",
      "Job has been completed on 19/12/2020 22:08:01 and output has been stored in LayerNeuronBurger file.\n",
      "Putting the scheduler on sleep for 10 seconds.\n",
      "***********************************************************************\n",
      "***********************************************************************\n",
      "Launching new job. \n",
      "\n",
      "Job has been launched on 19/12/2020 22:08:11.\n",
      "b''\n",
      "Job has been completed on 19/12/2020 22:11:14 and output has been stored in LayerNeuronBurger file.\n",
      "Putting the scheduler on sleep for 10 seconds.\n",
      "***********************************************************************\n",
      "***********************************************************************\n",
      "Launching new job. \n",
      "\n",
      "Job has been launched on 19/12/2020 22:11:25.\n",
      "b''\n",
      "Job has been completed on 19/12/2020 22:14:11 and output has been stored in LayerNeuronBurger file.\n",
      "Putting the scheduler on sleep for 10 seconds.\n",
      "***********************************************************************\n",
      "***********************************************************************\n",
      "Launching new job. \n",
      "\n",
      "Job has been launched on 19/12/2020 22:14:21.\n",
      "b''\n",
      "Job has been completed on 19/12/2020 22:17:13 and output has been stored in LayerNeuronBurger file.\n",
      "Putting the scheduler on sleep for 10 seconds.\n",
      "***********************************************************************\n",
      "***********************************************************************\n",
      "Launching new job. \n",
      "\n",
      "Job has been launched on 19/12/2020 22:17:24.\n",
      "b''\n",
      "Job has been completed on 19/12/2020 22:21:59 and output has been stored in LayerNeuronBurger file.\n",
      "Putting the scheduler on sleep for 10 seconds.\n",
      "***********************************************************************\n",
      "***********************************************************************\n",
      "Launching new job. \n",
      "\n",
      "Job has been launched on 19/12/2020 22:22:09.\n",
      "b''\n",
      "Job has been completed on 19/12/2020 22:25:09 and output has been stored in LayerNeuronBurger file.\n",
      "Putting the scheduler on sleep for 10 seconds.\n",
      "***********************************************************************\n",
      "***********************************************************************\n",
      "Launching new job. \n",
      "\n",
      "Job has been launched on 19/12/2020 22:25:20.\n",
      "b''\n",
      "Job has been completed on 19/12/2020 22:29:05 and output has been stored in LayerNeuronBurger file.\n",
      "Putting the scheduler on sleep for 10 seconds.\n",
      "***********************************************************************\n",
      "***********************************************************************\n",
      "Launching new job. \n",
      "\n",
      "Job has been launched on 19/12/2020 22:29:16.\n",
      "b''\n",
      "Job has been completed on 19/12/2020 22:35:26 and output has been stored in LayerNeuronBurger file.\n",
      "Putting the scheduler on sleep for 10 seconds.\n",
      "***********************************************************************\n"
     ]
    }
   ],
   "source": [
    "for dep in dep_list:\n",
    "    for wid in wid_list:\n",
    "        # creating new file\n",
    "        new_file(data, dep, wid)\n",
    "        # Activating the virtual environment\n",
    "        print(\"***********************************************************************\")\n",
    "        print(\"Launching new job. \\n\")\n",
    "        p = subprocess.Popen(['conda activate envTF22'],stdout=subprocess.PIPE,stderr=subprocess.PIPE, shell=True)\n",
    "        p.wait()\n",
    "        # Running the job on shell\n",
    "        print(\"Job has been launched on {0}.\".format(datetime.now().strftime(\"%d/%m/%Y %H:%M:%S\")))\n",
    "        p = subprocess.Popen(['python series.py >> LayerNeuronBurgers 2>&1 '], stdout=subprocess.PIPE, stderr=subprocess.PIPE, shell=True)\n",
    "        p.wait()\n",
    "        out, err = p.communicate()\n",
    "        print(err)\n",
    "        # Deactivating environment\n",
    "        p = subprocess.Popen(['deactivate'],stdout=subprocess.PIPE,stderr=subprocess.PIPE, shell=True)\n",
    "        p.wait()\n",
    "        print(\"Job has been completed on {0} and output has been stored in LayerNeuronBurger file.\".format(datetime.now().strftime(\"%d/%m/%Y %H:%M:%S\")))\n",
    "        print(\"Putting the scheduler on sleep for 10 seconds.\")\n",
    "        print(\"***********************************************************************\")\n",
    "        time.sleep(10)\n",
    "        "
   ]
  }
 ],
 "metadata": {
  "kernelspec": {
   "display_name": "Python 3",
   "language": "python",
   "name": "python3"
  },
  "language_info": {
   "codemirror_mode": {
    "name": "ipython",
    "version": 3
   },
   "file_extension": ".py",
   "mimetype": "text/x-python",
   "name": "python",
   "nbconvert_exporter": "python",
   "pygments_lexer": "ipython3",
   "version": "3.7.7"
  }
 },
 "nbformat": 4,
 "nbformat_minor": 4
}

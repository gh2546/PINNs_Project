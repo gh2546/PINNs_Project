{
 "cells": [
  {
   "cell_type": "code",
   "execution_count": 1,
   "metadata": {},
   "outputs": [],
   "source": [
    "import os\n",
    "import numpy\n",
    "os.chdir(\"utils\")\n",
    "from burgers_utils import *\n",
    "from plotting import plot_loss, list_tensor_to_list, three_plots_burgers, heat_map\n",
    "import matplotlib.gridspec as gridspec\n",
    "from mpl_toolkits.axes_grid1 import make_axes_locatable"
   ]
  },
  {
   "cell_type": "code",
   "execution_count": 2,
   "metadata": {},
   "outputs": [],
   "source": [
    "file_path = '../data/burgers_shock.mat'"
   ]
  },
  {
   "cell_type": "code",
   "execution_count": 3,
   "metadata": {},
   "outputs": [],
   "source": [
    "# loading data from the burgers_shock.mat\n",
    "# usol in the paper's script has been reffered as Exact\n",
    "x, t, usol = load_data(file_path)"
   ]
  },
  {
   "cell_type": "code",
   "execution_count": 4,
   "metadata": {},
   "outputs": [],
   "source": [
    "# making a spatial-temporal grid\n",
    "X, T = mesh_grid(x, t)"
   ]
  },
  {
   "cell_type": "code",
   "execution_count": 5,
   "metadata": {},
   "outputs": [],
   "source": [
    "# Creating test data set\n",
    "# X_test is reffered as X_star\n",
    "# y_test is reffered as u_star\n",
    "X_test, y_test = test_data(X, T, usol)"
   ]
  },
  {
   "cell_type": "code",
   "execution_count": 6,
   "metadata": {},
   "outputs": [],
   "source": [
    "# Domain bounds \n",
    "lb, ub = domain_bounds(X_test)"
   ]
  },
  {
   "cell_type": "code",
   "execution_count": 7,
   "metadata": {},
   "outputs": [],
   "source": [
    "# Number of collocation points i.e. number of training points for f\n",
    "N_f = 10000\n",
    "# Number of initial and boudary conditions to train the model for u\n",
    "N_u = 100"
   ]
  },
  {
   "cell_type": "code",
   "execution_count": 8,
   "metadata": {},
   "outputs": [],
   "source": [
    "### In Physics-informed neural networks, we are predicting a latent variable u (x,t) and structure of \n",
    "### the pde f(u,x, t). variables with \"u_train\" in them corresponds to the training example required for u \n",
    "### and \"f_train\" corresponds to the training example required for f\n",
    "### We don't have \"y_f_train\" because it's value is always zero and we specified it in the loss function"
   ]
  },
  {
   "cell_type": "code",
   "execution_count": 9,
   "metadata": {},
   "outputs": [],
   "source": [
    "# In the the paper they are reffered as X_u_train, X_f_train and u_train\n",
    "x_f, x_u, y_u = training_data(X, T, usol, lb, ub, N_f)"
   ]
  },
  {
   "cell_type": "code",
   "execution_count": 10,
   "metadata": {},
   "outputs": [],
   "source": [
    "# From the entire initial and boundary conditions we will select N_u number of x,t,u for the training\n",
    "idx = np.random.choice(x_u.shape[0], N_u, replace=False)\n",
    "X_u_train = x_u[idx, :]\n",
    "y_u_train = y_u[idx, :]\n",
    "# Stacking collocation points and IC and BC condtions\n",
    "# this will be used for imposing the structure of the Partial Differential Equation\n",
    "X_f_train = np.vstack([x_f, X_u_train])"
   ]
  },
  {
   "cell_type": "code",
   "execution_count": 11,
   "metadata": {},
   "outputs": [],
   "source": [
    "# Specifying the number of layers in the neural network shared between u and f\n",
    "layers = [2, 20, 20, 20, 20, 20, 20, 20, 20, 1]\n",
    "# Specifying the coefficient of viscosity\n",
    "nu = 0.01/np.pi"
   ]
  },
  {
   "cell_type": "code",
   "execution_count": 12,
   "metadata": {},
   "outputs": [],
   "source": [
    "def shared_model_func(layers, lb=None, ub=None, norm=False):\n",
    "    '''\n",
    "    shared_model_func: function creates a multilayer perceptron network for the shared network (u and f)\n",
    "    Arguments:\n",
    "    layers-- a list which contains of units in each layer\n",
    "    Returns:\n",
    "    model-- return a untrained keras model\n",
    "    '''\n",
    "    # u and f are function of x and t so creating 2 variables\n",
    "    x =  tf.keras.Input(shape=[1,], dtype=tf.float64)\n",
    "    t =  tf.keras.Input(shape=[1,], dtype=tf.float64)\n",
    "\n",
    "    # Concating x and t so we can make an array of [x,t]\n",
    "    inputs = tf.keras.layers.concatenate([x, t],dtype=tf.float64)\n",
    "    # If want to standardize our data\n",
    "    if norm==True:\n",
    "        # Data pre-processing\n",
    "        # Standardizing the data\n",
    "        inputs = 2.0 * (inputs - lb)/(ub - lb) - 1.0\n",
    "    # Xavier initializer and seed was not paper in the original paper but we set it as 1234\n",
    "    # In case, TA wants to reproduce the results so they can do it\n",
    "    initializer = tf.keras.initializers.glorot_normal(seed = 1234)\n",
    "    for layer in layers[1:-1]:\n",
    "        inputs = tf.keras.layers.Dense(units=int(layer),\n",
    "                                       activation='sigmoid' ,\n",
    "                                       kernel_initializer=initializer,\n",
    "                                       dtype=tf.float64,\n",
    "                                      trainable=True)(inputs)\n",
    "#         inputs = tf.keras.layers.LeakyReLU(alpha=0.7)(inputs)\n",
    "\n",
    "    outputs = tf.keras.layers.Dense(units=int(layers[-1]),\n",
    "                                    activation='linear',\n",
    "                                    kernel_initializer=initializer,\n",
    "                                    dtype=tf.float64,\n",
    "                                   trainable=True)(inputs)\n",
    "\n",
    "    model = tf.keras.models.Model(inputs=[x,t], outputs=outputs)\n",
    "    return model\n",
    "\n"
   ]
  },
  {
   "cell_type": "code",
   "execution_count": 13,
   "metadata": {
    "scrolled": true
   },
   "outputs": [
    {
     "name": "stdout",
     "output_type": "stream",
     "text": [
      "Shared network summary is: \n",
      "\n",
      "Model: \"model\"\n",
      "__________________________________________________________________________________________________\n",
      "Layer (type)                    Output Shape         Param #     Connected to                     \n",
      "==================================================================================================\n",
      "input_1 (InputLayer)            [(None, 1)]          0                                            \n",
      "__________________________________________________________________________________________________\n",
      "input_2 (InputLayer)            [(None, 1)]          0                                            \n",
      "__________________________________________________________________________________________________\n",
      "concatenate (Concatenate)       (None, 2)            0           input_1[0][0]                    \n",
      "                                                                 input_2[0][0]                    \n",
      "__________________________________________________________________________________________________\n",
      "tf_op_layer_Sub (TensorFlowOpLa [(None, 2)]          0           concatenate[0][0]                \n",
      "__________________________________________________________________________________________________\n",
      "tf_op_layer_Mul (TensorFlowOpLa [(None, 2)]          0           tf_op_layer_Sub[0][0]            \n",
      "__________________________________________________________________________________________________\n",
      "tf_op_layer_RealDiv (TensorFlow [(None, 2)]          0           tf_op_layer_Mul[0][0]            \n",
      "__________________________________________________________________________________________________\n",
      "tf_op_layer_Sub_1 (TensorFlowOp [(None, 2)]          0           tf_op_layer_RealDiv[0][0]        \n",
      "__________________________________________________________________________________________________\n",
      "dense (Dense)                   (None, 20)           60          tf_op_layer_Sub_1[0][0]          \n",
      "__________________________________________________________________________________________________\n",
      "dense_1 (Dense)                 (None, 20)           420         dense[0][0]                      \n",
      "__________________________________________________________________________________________________\n",
      "dense_2 (Dense)                 (None, 20)           420         dense_1[0][0]                    \n",
      "__________________________________________________________________________________________________\n",
      "dense_3 (Dense)                 (None, 20)           420         dense_2[0][0]                    \n",
      "__________________________________________________________________________________________________\n",
      "dense_4 (Dense)                 (None, 20)           420         dense_3[0][0]                    \n",
      "__________________________________________________________________________________________________\n",
      "dense_5 (Dense)                 (None, 20)           420         dense_4[0][0]                    \n",
      "__________________________________________________________________________________________________\n",
      "dense_6 (Dense)                 (None, 20)           420         dense_5[0][0]                    \n",
      "__________________________________________________________________________________________________\n",
      "dense_7 (Dense)                 (None, 20)           420         dense_6[0][0]                    \n",
      "__________________________________________________________________________________________________\n",
      "dense_8 (Dense)                 (None, 1)            21          dense_7[0][0]                    \n",
      "==================================================================================================\n",
      "Total params: 3,021\n",
      "Trainable params: 3,021\n",
      "Non-trainable params: 0\n",
      "__________________________________________________________________________________________________\n"
     ]
    }
   ],
   "source": [
    "# Creating a shared neural network\n",
    "shared_model = shared_model_func(layers=layers, \n",
    "                                  lb=lb,\n",
    "                                   ub = ub,\n",
    "                                    norm = True) \n",
    "print(\"Shared network summary is: \\n\")\n",
    "shared_model.summary()"
   ]
  },
  {
   "cell_type": "code",
   "execution_count": 14,
   "metadata": {
    "scrolled": false
   },
   "outputs": [
    {
     "name": "stderr",
     "output_type": "stream",
     "text": [
      "\r",
      "  0%|          | 0/10000 [00:00<?, ?it/s]"
     ]
    },
    {
     "name": "stdout",
     "output_type": "stream",
     "text": [
      "WARNING:tensorflow:Calling GradientTape.gradient on a persistent tape inside its context is significantly less efficient than calling it outside the context (it causes the gradient ops to be recorded on the tape, leading to increased CPU and memory usage). Only call GradientTape.gradient inside the context if you actually want to trace the gradient in order to compute higher order derivatives.\n"
     ]
    },
    {
     "name": "stderr",
     "output_type": "stream",
     "text": [
      " 10%|█         | 1004/10000 [00:26<03:39, 40.89it/s]"
     ]
    },
    {
     "name": "stdout",
     "output_type": "stream",
     "text": [
      "After 1000 epochs loss on variable u is 0.14446496963500977\n",
      "After 1000 epochs loss on PDE structure (f) is 4.79409791296348e-05\n",
      "After 1000 epochs combined loss is 0.1445129106141394\n"
     ]
    },
    {
     "name": "stderr",
     "output_type": "stream",
     "text": [
      " 20%|██        | 2004/10000 [00:50<03:15, 40.84it/s]"
     ]
    },
    {
     "name": "stdout",
     "output_type": "stream",
     "text": [
      "After 2000 epochs loss on variable u is 0.14321213960647583\n",
      "After 2000 epochs loss on PDE structure (f) is 9.73108981270343e-05\n",
      "After 2000 epochs combined loss is 0.14330945050460286\n"
     ]
    },
    {
     "name": "stderr",
     "output_type": "stream",
     "text": [
      " 30%|███       | 3004/10000 [01:14<02:51, 40.72it/s]"
     ]
    },
    {
     "name": "stdout",
     "output_type": "stream",
     "text": [
      "After 3000 epochs loss on variable u is 0.004302185960114002\n",
      "After 3000 epochs loss on PDE structure (f) is 0.005169125739485025\n",
      "After 3000 epochs combined loss is 0.009471311699599028\n"
     ]
    },
    {
     "name": "stderr",
     "output_type": "stream",
     "text": [
      " 40%|████      | 4004/10000 [01:37<02:27, 40.76it/s]"
     ]
    },
    {
     "name": "stdout",
     "output_type": "stream",
     "text": [
      "After 4000 epochs loss on variable u is 0.0016167396679520607\n",
      "After 4000 epochs loss on PDE structure (f) is 0.002565195318311453\n",
      "After 4000 epochs combined loss is 0.0041819349862635136\n"
     ]
    },
    {
     "name": "stderr",
     "output_type": "stream",
     "text": [
      " 50%|█████     | 5004/10000 [02:01<02:02, 40.75it/s]"
     ]
    },
    {
     "name": "stdout",
     "output_type": "stream",
     "text": [
      "After 5000 epochs loss on variable u is 0.0007110353326424956\n",
      "After 5000 epochs loss on PDE structure (f) is 0.0013601487735286355\n",
      "After 5000 epochs combined loss is 0.002071184106171131\n"
     ]
    },
    {
     "name": "stderr",
     "output_type": "stream",
     "text": [
      " 60%|██████    | 6004/10000 [02:25<01:38, 40.75it/s]"
     ]
    },
    {
     "name": "stdout",
     "output_type": "stream",
     "text": [
      "After 6000 epochs loss on variable u is 0.0004163526464253664\n",
      "After 6000 epochs loss on PDE structure (f) is 0.0008269117097370327\n",
      "After 6000 epochs combined loss is 0.001243264356162399\n"
     ]
    },
    {
     "name": "stderr",
     "output_type": "stream",
     "text": [
      " 70%|███████   | 7004/10000 [02:48<01:12, 41.06it/s]"
     ]
    },
    {
     "name": "stdout",
     "output_type": "stream",
     "text": [
      "After 7000 epochs loss on variable u is 0.0002784564276225865\n",
      "After 7000 epochs loss on PDE structure (f) is 0.0005849486333318055\n",
      "After 7000 epochs combined loss is 0.000863405060954392\n"
     ]
    },
    {
     "name": "stderr",
     "output_type": "stream",
     "text": [
      " 80%|████████  | 8004/10000 [03:12<00:48, 40.84it/s]"
     ]
    },
    {
     "name": "stdout",
     "output_type": "stream",
     "text": [
      "After 8000 epochs loss on variable u is 0.00019828909717034549\n",
      "After 8000 epochs loss on PDE structure (f) is 0.00045149473589845\n",
      "After 8000 epochs combined loss is 0.0006497838330687955\n"
     ]
    },
    {
     "name": "stderr",
     "output_type": "stream",
     "text": [
      " 90%|█████████ | 9005/10000 [03:36<00:24, 41.21it/s]"
     ]
    },
    {
     "name": "stdout",
     "output_type": "stream",
     "text": [
      "After 9000 epochs loss on variable u is 0.0001553526963107288\n",
      "After 9000 epochs loss on PDE structure (f) is 0.0003823211300186813\n",
      "After 9000 epochs combined loss is 0.0005376738263294101\n"
     ]
    },
    {
     "name": "stderr",
     "output_type": "stream",
     "text": [
      "100%|██████████| 10000/10000 [04:00<00:00, 41.59it/s]"
     ]
    },
    {
     "name": "stdout",
     "output_type": "stream",
     "text": [
      "After 10000 epochs loss on variable u is 0.00012785526632796973\n",
      "After 10000 epochs loss on PDE structure (f) is 0.00033809535671025515\n",
      "After 10000 epochs combined loss is 0.0004659506230382249\n"
     ]
    },
    {
     "name": "stderr",
     "output_type": "stream",
     "text": [
      "\n"
     ]
    }
   ],
   "source": [
    "# Specified in the paper\n",
    "loss_function = tf.keras.losses.MeanSquaredError()\n",
    "# Working perfect \n",
    "# 1. choose_optimizer(lr=5e-02, ds=100, er=0.96, opt='Adam')\n",
    "# 2. choose_optimizer(lr=1e-02, ds=100, er=0.96, opt='RMSprop')\n",
    "optimizer = choose_optimizer(lr=5*1e-03, ds=100, er=0.955, opt='Adam', lear_rate_sched=True)\n",
    "train_dataset = data_gen(X_f_train, batch_size=X_f_train.shape[0])\n",
    "max_Iter = 10000\n",
    "loss_u = []\n",
    "loss_f = []\n",
    "loss_model = []\n",
    "for epoch in tqdm(range(max_Iter)):\n",
    "    for (X_f_train, t_f_train) in train_dataset:   \n",
    "        # Passing the entire data in a single batch (That's how they did in the original paper)\n",
    "        loss_1, loss_2, loss_combine = model_build_compile(x_f=X_f_train, t_f=t_f_train, \n",
    "                                                           x_u = X_u_train[:,0:1], t_u = X_u_train[:,1:2],\n",
    "                                                           u = y_u_train, shared_model=shared_model, \n",
    "                                                           loss_function=loss_function,\n",
    "                                                           optimizer=optimizer)\n",
    "        loss_u.append(loss_1)\n",
    "        loss_f.append(loss_2)\n",
    "        loss_model.append(loss_combine)\n",
    "        \n",
    "        if ((epoch+1)%1000 == 0):\n",
    "            print(\"After {0} epochs loss on variable u is {1}\".format(epoch+1, loss_1.numpy()))\n",
    "            print(\"After {0} epochs loss on PDE structure (f) is {1}\".format(epoch+1, loss_2.numpy()))\n",
    "            print(\"After {0} epochs combined loss is {1}\".format(epoch+1, loss_combine.numpy()))\n",
    "            \n",
    "        "
   ]
  },
  {
   "cell_type": "code",
   "execution_count": 15,
   "metadata": {},
   "outputs": [],
   "source": [
    "# os.mkdir('../figures/Burgers_relu')"
   ]
  },
  {
   "cell_type": "code",
   "execution_count": 16,
   "metadata": {},
   "outputs": [],
   "source": [
    "def plot_loss(num_epoch, y_list, which):\n",
    "    '''\n",
    "    plot_loss: function plots the different losses in a same fig\n",
    "    Arguments:\n",
    "    num_epoch-- specify the number of epochs\n",
    "    y_list-- a list which contains the list of tensorflow loss\n",
    "    which-- specifies 'burgers' or 'schrodinger'\n",
    "    Returns:\n",
    "    None\n",
    "    '''\n",
    "    xlab = r\"Number of epochs\"\n",
    "    ylab = r\"Loss\"\n",
    "    a = min(num_epoch, len(y_list[0]))\n",
    "    x = np.linspace(start = 0, stop = a,\n",
    "            num = a, dtype = np.int)\n",
    "    if which == 'burgers':\n",
    "        labels = [r\"$loss_u$\", r\"$loss_f$\", r\"$loss_{model}$\"]\n",
    "        color = ['k','r', 'g' ]\n",
    "        i = 0\n",
    "        plt.figure(figsize=(6,4))\n",
    "        for loss in y_list:\n",
    "            loss_num = list_tensor_to_list(loss)\n",
    "            loss_num = list_tensor_to_list(loss)\n",
    "            plt.plot(x, loss_num, color[i], label=labels[i])\n",
    "            i += 1\n",
    "        plt.yscale('log')\n",
    "        plt.xlabel(xlab, fontsize=10)\n",
    "        plt.ylabel(ylab, fontsize=10)\n",
    "        plt.legend(loc='best',fontsize=10)\n",
    "        plt.xticks(fontsize=10)\n",
    "        plt.yticks(fontsize=10)\n",
    "        plt.tight_layout()\n",
    "        plt.xlim([0, a])\n",
    "        plt.savefig('../figures/Burgers_sigmoid/burgers_loss.png', dpi=500)\n",
    "        plt.show()"
   ]
  },
  {
   "cell_type": "code",
   "execution_count": 17,
   "metadata": {},
   "outputs": [
    {
     "data": {
      "image/png": "[encoded data removed]",
      "text/plain": [
       "<Figure size 432x288 with 1 Axes>"
      ]
     },
     "metadata": {
      "needs_background": "light"
     },
     "output_type": "display_data"
    }
   ],
   "source": [
    "loss_list = [loss_u, loss_f, loss_model]\n",
    "plot_loss(num_epoch=max_Iter, y_list=loss_list, which='burgers')"
   ]
  },
  {
   "cell_type": "code",
   "execution_count": 18,
   "metadata": {},
   "outputs": [],
   "source": [
    "y_hat = predict(shared_model, X_test)"
   ]
  },
  {
   "cell_type": "code",
   "execution_count": 19,
   "metadata": {},
   "outputs": [
    {
     "name": "stdout",
     "output_type": "stream",
     "text": [
      "*****************************************************\n",
      "\n",
      "Error for the latent variable u is: 3.276913e-02\n",
      "\n",
      "*****************************************************\n"
     ]
    }
   ],
   "source": [
    "loss = error_loss(y_test, y_hat)\n",
    "print(\"*****************************************************\\n\")\n",
    "print(\"Error for the latent variable u is: {:e}\".format(loss))\n",
    "print(\"\\n*****************************************************\")"
   ]
  },
  {
   "cell_type": "code",
   "execution_count": 20,
   "metadata": {},
   "outputs": [],
   "source": [
    "def three_plots_burgers(x, y, y_hat):\n",
    "    '''\n",
    "    plot_loss: function plots the snapshots of the solution at different time\n",
    "    Arguments:\n",
    "    x-- spatial grid (256, 1)\n",
    "    y-- ground truth solution\n",
    "    y_hat-- predicted solution\n",
    "    Returns:\n",
    "    None\n",
    "    '''\n",
    "    plt.figure(figsize=(6, 4))\n",
    "    fig, (ax1, ax2, ax3)  = plt.subplots(1, 3,\n",
    "                                    sharey='row')\n",
    "\n",
    "    ax1.plot(x,y[25,:], 'b-', linewidth = 2, label = 'Exact')\n",
    "    ax1.plot(x,y_hat[25,:], 'r--', linewidth = 2, label = 'Prediction')\n",
    "    ax1.set_xlabel('$x$')\n",
    "    ax1.set_ylabel('$u(t,x)$')\n",
    "    ax1.set_title('$t = 0.25$', fontsize = 10)\n",
    "    ax1.axis('square')\n",
    "    ax1.set_xlim([-1.1,1.1])\n",
    "    ax1.set_ylim([-1.1,1.1])\n",
    "\n",
    "\n",
    "    ax2.plot(x,y[50,:], 'b-', linewidth = 2, label = 'Exact')\n",
    "    ax2.plot(x,y_hat[50,:], 'r--', linewidth = 2, label = 'Prediction')\n",
    "    ax2.set_xlabel('$x$')\n",
    "    ax2.set_ylabel('$u(t,x)$')\n",
    "    ax2.axis('square')\n",
    "    ax2.set_xlim([-1.1,1.1])\n",
    "    ax2.set_ylim([-1.1,1.1])\n",
    "    ax2.set_title('$t = 0.50$', fontsize = 10)\n",
    "    ax2.legend(loc='upper center', bbox_to_anchor=(0.5, -0.35), ncol=5, frameon=False)\n",
    "\n",
    "    ax3.plot(x,y[75,:], 'b-', linewidth = 2, label = 'Exact')\n",
    "    ax3.plot(x,y_hat[75,:], 'r--', linewidth = 2, label = 'Prediction')\n",
    "    ax3.set_xlabel('$x$')\n",
    "    ax3.set_ylabel('$u(t,x)$')\n",
    "    ax3.axis('square')\n",
    "    ax3.set_xlim([-1.1,1.1])\n",
    "    ax3.set_ylim([-1.1,1.1])\n",
    "    ax3.set_title('$t = 0.75$', fontsize = 10)\n",
    "    plt.savefig('../figures/Burgers_sigmoid/burgers_3.png', dpi=500)\n",
    "    plt.tight_layout()\n",
    "    plt.show()"
   ]
  },
  {
   "cell_type": "code",
   "execution_count": 21,
   "metadata": {},
   "outputs": [
    {
     "data": {
      "text/plain": [
       "<Figure size 432x288 with 0 Axes>"
      ]
     },
     "metadata": {},
     "output_type": "display_data"
    },
    {
     "data": {
      "image/png": "[encoded data removed]",
      "text/plain": [
       "<Figure size 432x288 with 3 Axes>"
      ]
     },
     "metadata": {
      "needs_background": "light"
     },
     "output_type": "display_data"
    }
   ],
   "source": [
    "U_pred = griddata(X_test, y_hat.flatten(), (X, T), method='cubic')\n",
    "three_plots_burgers(x, usol, U_pred)"
   ]
  },
  {
   "cell_type": "code",
   "execution_count": 22,
   "metadata": {},
   "outputs": [],
   "source": [
    "def heat_map(U_pred, t, x, X_u_train, str):\n",
    "    fig, ax = plt.subplots()\n",
    "    gs0 = gridspec.GridSpec(1, 2)\n",
    "    gs0.update(top=1-0.06, bottom=1-1/3, left=0.15, right=0.85, wspace=0)\n",
    "    ax = plt.subplot(gs0[:, :])\n",
    "\n",
    "    h = ax.imshow(U_pred.T, interpolation='nearest', cmap='rainbow',\n",
    "                  extent=[t.min(), t.max(), x.min(), x.max()],\n",
    "                  origin='lower', aspect='auto')\n",
    "    divider = make_axes_locatable(ax)\n",
    "    cax = divider.append_axes(\"right\", size=\"5%\", pad=0.05)\n",
    "    fig.colorbar(h, cax=cax)\n",
    "\n",
    "    ax.plot(X_u_train[:,1], X_u_train[:,0], 'kx', label = 'Data (%d points)' % (X_u_train.shape[0]), markersize = 4, clip_on = False)\n",
    "\n",
    "    line = np.linspace(x.min(), x.max(), 2)[:,None]\n",
    "    ax.plot(t[25]*np.ones((2,1)), line, 'w-', linewidth = 1)\n",
    "    ax.plot(t[50]*np.ones((2,1)), line, 'w-', linewidth = 1)\n",
    "    ax.plot(t[75]*np.ones((2,1)), line, 'w-', linewidth = 1)\n",
    "\n",
    "    ax.set_xlabel('$t$')\n",
    "    ax.set_ylabel('$x$')\n",
    "    ax.legend(frameon=False, loc = 'best')\n",
    "    ax.set_title('$u(t,x)$', fontsize = 10)\n",
    "    fig.savefig('../figures/Burgers_sigmoid/{}'.format(str))"
   ]
  },
  {
   "cell_type": "code",
   "execution_count": 23,
   "metadata": {},
   "outputs": [
    {
     "data": {
      "image/png": "[encoded data removed]",
      "text/plain": [
       "<Figure size 432x288 with 2 Axes>"
      ]
     },
     "metadata": {
      "needs_background": "light"
     },
     "output_type": "display_data"
    }
   ],
   "source": [
    "#Predicted solution on spatio-temporal grid\n",
    "heat_map(U_pred, t, x, X_u_train, 'solution_heatmap')"
   ]
  },
  {
   "cell_type": "code",
   "execution_count": 24,
   "metadata": {},
   "outputs": [
    {
     "data": {
      "image/png": "[encoded data removed]",
      "text/plain": [
       "<Figure size 432x288 with 2 Axes>"
      ]
     },
     "metadata": {
      "needs_background": "light"
     },
     "output_type": "display_data"
    }
   ],
   "source": [
    "# Error of the solution on spatio-temporal grid\n",
    "U_true  = griddata(X_test, y_test.flatten(), (X, T), method='cubic')\n",
    "Error = U_pred - U_true\n",
    "heat_map(Error, t, x, X_u_train, 'error_heatmap')"
   ]
  }
 ],
 "metadata": {
  "kernelspec": {
   "display_name": "Python 3",
   "language": "python",
   "name": "python3"
  },
  "language_info": {
   "codemirror_mode": {
    "name": "ipython",
    "version": 3
   },
   "file_extension": ".py",
   "mimetype": "text/x-python",
   "name": "python",
   "nbconvert_exporter": "python",
   "pygments_lexer": "ipython3",
   "version": "3.7.7"
  }
 },
 "nbformat": 4,
 "nbformat_minor": 4
}
